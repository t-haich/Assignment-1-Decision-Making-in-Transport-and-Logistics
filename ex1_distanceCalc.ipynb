{
 "cells": [
  {
   "cell_type": "code",
   "execution_count": 1,
   "id": "135c3412",
   "metadata": {},
   "outputs": [
    {
     "ename": "ModuleNotFoundError",
     "evalue": "No module named 'haversine'",
     "output_type": "error",
     "traceback": [
      "\u001b[1;31m---------------------------------------------------------------------------\u001b[0m",
      "\u001b[1;31mModuleNotFoundError\u001b[0m                       Traceback (most recent call last)",
      "Cell \u001b[1;32mIn[1], line 4\u001b[0m\n\u001b[0;32m      2\u001b[0m \u001b[38;5;28;01mimport\u001b[39;00m \u001b[38;5;21;01mpandas\u001b[39;00m \u001b[38;5;28;01mas\u001b[39;00m \u001b[38;5;21;01mpd\u001b[39;00m\n\u001b[0;32m      3\u001b[0m \u001b[38;5;66;03m# https://pypi.org/project/haversine/\u001b[39;00m\n\u001b[1;32m----> 4\u001b[0m \u001b[38;5;28;01mfrom\u001b[39;00m \u001b[38;5;21;01mhaversine\u001b[39;00m \u001b[38;5;28;01mimport\u001b[39;00m haversine, Unit\n\u001b[0;32m      5\u001b[0m \u001b[38;5;66;03m# Convert DMS to DD\u001b[39;00m\n\u001b[0;32m      6\u001b[0m \u001b[38;5;66;03m# https://stackoverflow.com/questions/33997361/how-to-convert-degree-minute-second-to-degree-decimal\u001b[39;00m\n\u001b[0;32m      8\u001b[0m \u001b[38;5;28;01mdef\u001b[39;00m \u001b[38;5;21mread_data\u001b[39m():\n\u001b[0;32m      9\u001b[0m     \u001b[38;5;66;03m# read input data files / set input data\u001b[39;00m\n",
      "\u001b[1;31mModuleNotFoundError\u001b[0m: No module named 'haversine'"
     ]
    }
   ],
   "source": [
    "import numpy as np\n",
    "import pandas as pd\n",
    "# https://pypi.org/project/haversine/\n",
    "from haversine import haversine, Unit\n",
    "# Convert DMS to DD\n",
    "# https://stackoverflow.com/questions/33997361/how-to-convert-degree-minute-second-to-degree-decimal\n",
    "\n",
    "def read_data():\n",
    "    # read input data files / set input data\n",
    "\n",
    "    varCosts = pd.read_excel('varCosts.xlsx')\n",
    "    coordinates = pd.read_excel('coordinates.xlsx')\n",
    "    print(coordinates)\n",
    "\n",
    "    return data\n",
    "\n",
    "\n",
    "\n",
    "if __name__ == \"__main__\":\n",
    "    # steer the running of the experiments. \n",
    "    # give detailed comments on how to run the code.\n",
    "    # if the file contains answers to multiple questions, you can comment them out (see example below)\n",
    "    read_data()\n",
    "    \n",
    "    # # Part (c): Increasing Yogurt Demand\n",
    "    # simulate_demand_increase_yogurt(data, increase_factor_range=np.arange(1.0, 2.6, 0.1))\n",
    "\n",
    "    # # Part (d): Changing Production Capacity\n",
    "    # simulate_capacity_change(data, facility=\"P2\", new_capacity_range=np.arange(100, 200, 10))\n"
   ]
  },
  {
   "cell_type": "code",
   "execution_count": null,
   "id": "9a0e9ba3",
   "metadata": {},
   "outputs": [],
   "source": []
  },
  {
   "cell_type": "code",
   "execution_count": null,
   "id": "b027c6e5",
   "metadata": {},
   "outputs": [],
   "source": []
  },
  {
   "cell_type": "code",
   "execution_count": null,
   "id": "54682b4a",
   "metadata": {},
   "outputs": [],
   "source": []
  },
  {
   "cell_type": "code",
   "execution_count": null,
   "id": "31b836fb",
   "metadata": {},
   "outputs": [],
   "source": []
  }
 ],
 "metadata": {
  "kernelspec": {
   "display_name": "Python 3 (ipykernel)",
   "language": "python",
   "name": "python3"
  },
  "language_info": {
   "codemirror_mode": {
    "name": "ipython",
    "version": 3
   },
   "file_extension": ".py",
   "mimetype": "text/x-python",
   "name": "python",
   "nbconvert_exporter": "python",
   "pygments_lexer": "ipython3",
   "version": "3.11.5"
  }
 },
 "nbformat": 4,
 "nbformat_minor": 5
}
